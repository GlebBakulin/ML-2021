{
 "cells": [
  {
   "cell_type": "markdown",
   "metadata": {},
   "source": [
    "## Рубежный контроль №1. Методы машинного обучения\n",
    "\n",
    "**Студент:** Седойкин Г.С., ИУ5-22М  \n",
    "**Вариант:** 10  \n",
    "**Задачи:** 10, 30, гистрограмма для произвольной колонки"
   ]
  },
  {
   "cell_type": "code",
   "execution_count": 1,
   "metadata": {},
   "outputs": [],
   "source": [
    "import numpy as np\n",
    "import pandas as pd\n",
    "import seaborn as sns\n",
    "import matplotlib.pyplot as plt\n",
    "from sklearn.impute import SimpleImputer\n",
    "from sklearn.impute import MissingIndicator\n",
    "%matplotlib inline \n",
    "sns.set(style=\"ticks\")"
   ]
  },
  {
   "cell_type": "markdown",
   "metadata": {},
   "source": [
    "Работа будет выполняться на датасете \"[COVID-19's Impact on Educational Stress](https://www.kaggle.com/bsoyka3/educational-stress-due-to-the-coronavirus-pandemic)\".  \n",
    "Загрузим его:"
   ]
  },
  {
   "cell_type": "code",
   "execution_count": 2,
   "metadata": {},
   "outputs": [
    {
     "name": "stdout",
     "output_type": "stream",
     "text": [
      "shape: (37, 15)\n"
     ]
    }
   ],
   "source": [
    "data_set = pd.read_csv(\"../data/edu_stress.csv\", sep=\",\")\n",
    "print(\"shape:\", data_set.shape)"
   ]
  },
  {
   "cell_type": "markdown",
   "metadata": {},
   "source": [
    "### Задача №10\n",
    "Для набора данных проведите устранение пропусков для одного (произвольного) категориального признака с использованием метода заполнения наиболее распространенным значением.\n",
    "\n",
    "Изучим наличие пропусков в колонках датасета:"
   ]
  },
  {
   "cell_type": "code",
   "execution_count": 3,
   "metadata": {},
   "outputs": [
    {
     "name": "stdout",
     "output_type": "stream",
     "text": [
      "\"Category\" - 0.0%\n",
      "\"Country\" - 0.0%\n",
      "\"State\" - 24.3%\n",
      "\"Age\" - 0.0%\n",
      "\"Gender\" - 8.1%\n",
      "\"Before-Environment\" - 0.0%\n",
      "\"Before-ClassworkStress\" - 0.0%\n",
      "\"Before-HomeworkStress\" - 0.0%\n",
      "\"Before-HomeworkHours\" - 0.0%\n",
      "\"Now-Environment\" - 0.0%\n",
      "\"Now-ClassworkStress\" - 0.0%\n",
      "\"Now-HomeworkStress\" - 0.0%\n",
      "\"Now-HomeworkHours\" - 0.0%\n",
      "\"FamilyRelationships\" - 0.0%\n",
      "\"FriendRelationships\" - 0.0%\n"
     ]
    }
   ],
   "source": [
    "for col in data_set.columns:\n",
    "    print(\"\\\"{0}\\\" - {1}%\".format(col, round(data_set[col].isnull().mean() * 100, 1)))"
   ]
  },
  {
   "cell_type": "markdown",
   "metadata": {},
   "source": [
    "Заполним попущенные значения для колонки \"State\" используя `SimpleImputer` со стратегией `most_frequent`:"
   ]
  },
  {
   "cell_type": "code",
   "execution_count": 4,
   "metadata": {},
   "outputs": [
    {
     "name": "stdout",
     "output_type": "stream",
     "text": [
      "\"State\" before imputer:\n"
     ]
    },
    {
     "data": {
      "text/html": [
       "<div>\n",
       "<style scoped>\n",
       "    .dataframe tbody tr th:only-of-type {\n",
       "        vertical-align: middle;\n",
       "    }\n",
       "\n",
       "    .dataframe tbody tr th {\n",
       "        vertical-align: top;\n",
       "    }\n",
       "\n",
       "    .dataframe thead th {\n",
       "        text-align: right;\n",
       "    }\n",
       "</style>\n",
       "<table border=\"1\" class=\"dataframe\">\n",
       "  <thead>\n",
       "    <tr style=\"text-align: right;\">\n",
       "      <th></th>\n",
       "      <th>0</th>\n",
       "      <th>1</th>\n",
       "      <th>2</th>\n",
       "      <th>3</th>\n",
       "      <th>4</th>\n",
       "      <th>5</th>\n",
       "      <th>6</th>\n",
       "      <th>7</th>\n",
       "      <th>8</th>\n",
       "      <th>9</th>\n",
       "      <th>...</th>\n",
       "      <th>27</th>\n",
       "      <th>28</th>\n",
       "      <th>29</th>\n",
       "      <th>30</th>\n",
       "      <th>31</th>\n",
       "      <th>32</th>\n",
       "      <th>33</th>\n",
       "      <th>34</th>\n",
       "      <th>35</th>\n",
       "      <th>36</th>\n",
       "    </tr>\n",
       "  </thead>\n",
       "  <tbody>\n",
       "    <tr>\n",
       "      <th>State</th>\n",
       "      <td>TX</td>\n",
       "      <td>MD</td>\n",
       "      <td>TX</td>\n",
       "      <td>GA</td>\n",
       "      <td>NaN</td>\n",
       "      <td>WV</td>\n",
       "      <td>MO</td>\n",
       "      <td>PA</td>\n",
       "      <td>IL</td>\n",
       "      <td>MN</td>\n",
       "      <td>...</td>\n",
       "      <td>NaN</td>\n",
       "      <td>NaN</td>\n",
       "      <td>GA</td>\n",
       "      <td>IN</td>\n",
       "      <td>NaN</td>\n",
       "      <td>NaN</td>\n",
       "      <td>PA</td>\n",
       "      <td>NaN</td>\n",
       "      <td>AZ</td>\n",
       "      <td>NY</td>\n",
       "    </tr>\n",
       "  </tbody>\n",
       "</table>\n",
       "<p>1 rows × 37 columns</p>\n",
       "</div>"
      ],
      "text/plain": [
       "       0   1   2   3    4   5   6   7   8   9   ...   27   28  29  30   31  \\\n",
       "State  TX  MD  TX  GA  NaN  WV  MO  PA  IL  MN  ...  NaN  NaN  GA  IN  NaN   \n",
       "\n",
       "        32  33   34  35  36  \n",
       "State  NaN  PA  NaN  AZ  NY  \n",
       "\n",
       "[1 rows x 37 columns]"
      ]
     },
     "execution_count": 4,
     "metadata": {},
     "output_type": "execute_result"
    }
   ],
   "source": [
    "print(\"\\\"State\\\" before imputer:\")\n",
    "data_set[\"State\"].to_frame().T"
   ]
  },
  {
   "cell_type": "code",
   "execution_count": 5,
   "metadata": {},
   "outputs": [
    {
     "name": "stdout",
     "output_type": "stream",
     "text": [
      "Percentage of missing values in \"State\" after imputer = 0.0%\n",
      "\"State\" after imputer:\n"
     ]
    },
    {
     "data": {
      "text/html": [
       "<div>\n",
       "<style scoped>\n",
       "    .dataframe tbody tr th:only-of-type {\n",
       "        vertical-align: middle;\n",
       "    }\n",
       "\n",
       "    .dataframe tbody tr th {\n",
       "        vertical-align: top;\n",
       "    }\n",
       "\n",
       "    .dataframe thead th {\n",
       "        text-align: right;\n",
       "    }\n",
       "</style>\n",
       "<table border=\"1\" class=\"dataframe\">\n",
       "  <thead>\n",
       "    <tr style=\"text-align: right;\">\n",
       "      <th></th>\n",
       "      <th>0</th>\n",
       "      <th>1</th>\n",
       "      <th>2</th>\n",
       "      <th>3</th>\n",
       "      <th>4</th>\n",
       "      <th>5</th>\n",
       "      <th>6</th>\n",
       "      <th>7</th>\n",
       "      <th>8</th>\n",
       "      <th>9</th>\n",
       "      <th>...</th>\n",
       "      <th>27</th>\n",
       "      <th>28</th>\n",
       "      <th>29</th>\n",
       "      <th>30</th>\n",
       "      <th>31</th>\n",
       "      <th>32</th>\n",
       "      <th>33</th>\n",
       "      <th>34</th>\n",
       "      <th>35</th>\n",
       "      <th>36</th>\n",
       "    </tr>\n",
       "  </thead>\n",
       "  <tbody>\n",
       "    <tr>\n",
       "      <th>State</th>\n",
       "      <td>TX</td>\n",
       "      <td>MD</td>\n",
       "      <td>TX</td>\n",
       "      <td>GA</td>\n",
       "      <td>TX</td>\n",
       "      <td>WV</td>\n",
       "      <td>MO</td>\n",
       "      <td>PA</td>\n",
       "      <td>IL</td>\n",
       "      <td>MN</td>\n",
       "      <td>...</td>\n",
       "      <td>TX</td>\n",
       "      <td>TX</td>\n",
       "      <td>GA</td>\n",
       "      <td>IN</td>\n",
       "      <td>TX</td>\n",
       "      <td>TX</td>\n",
       "      <td>PA</td>\n",
       "      <td>TX</td>\n",
       "      <td>AZ</td>\n",
       "      <td>NY</td>\n",
       "    </tr>\n",
       "  </tbody>\n",
       "</table>\n",
       "<p>1 rows × 37 columns</p>\n",
       "</div>"
      ],
      "text/plain": [
       "       0   1   2   3   4   5   6   7   8   9   ...  27  28  29  30  31  32  \\\n",
       "State  TX  MD  TX  GA  TX  WV  MO  PA  IL  MN  ...  TX  TX  GA  IN  TX  TX   \n",
       "\n",
       "       33  34  35  36  \n",
       "State  PA  TX  AZ  NY  \n",
       "\n",
       "[1 rows x 37 columns]"
      ]
     },
     "execution_count": 5,
     "metadata": {},
     "output_type": "execute_result"
    }
   ],
   "source": [
    "state_data_original = data_set[[\"State\"]]\n",
    "imputer = SimpleImputer(strategy=\"most_frequent\")\n",
    "state_data_imputed = imputer.fit_transform(state_data_original)\n",
    "data_set[[\"State\"]] = state_data_imputed\n",
    "\n",
    "print(\"Percentage of missing values in \\\"State\\\" after imputer = {0}%\".format(round(data_set[\"State\"].isnull().mean() * 100, 1)))\n",
    "print(\"\\\"State\\\" after imputer:\")\n",
    "data_set[\"State\"].to_frame().T"
   ]
  },
  {
   "cell_type": "markdown",
   "metadata": {},
   "source": [
    "### Задача №30\n",
    "Для набора данных проведите удаление повторяющихся признаков.\n",
    "\n",
    "В имеющемся датасете отсутствуют повторяющиеся признаки, посему добавим новый признак \"Now-WeekendStress\", полностью дублирующий \"Now-HomeworkStress\"."
   ]
  },
  {
   "cell_type": "code",
   "execution_count": 6,
   "metadata": {},
   "outputs": [
    {
     "data": {
      "text/plain": [
       "Index(['Category', 'Country', 'State', 'Age', 'Gender', 'Before-Environment',\n",
       "       'Before-ClassworkStress', 'Before-HomeworkStress',\n",
       "       'Before-HomeworkHours', 'Now-Environment', 'Now-ClassworkStress',\n",
       "       'Now-HomeworkStress', 'Now-HomeworkHours', 'FamilyRelationships',\n",
       "       'FriendRelationships', 'Now-WeekendStress'],\n",
       "      dtype='object')"
      ]
     },
     "execution_count": 6,
     "metadata": {},
     "output_type": "execute_result"
    }
   ],
   "source": [
    "data_set[\"Now-WeekendStress\"] = data_set[\"Now-HomeworkStress\"]\n",
    "data_set.columns"
   ]
  },
  {
   "cell_type": "markdown",
   "metadata": {},
   "source": [
    "Выполним удаление дублирующихся признаков:"
   ]
  },
  {
   "cell_type": "code",
   "execution_count": 7,
   "metadata": {},
   "outputs": [
    {
     "data": {
      "text/plain": [
       "Index(['Category', 'Country', 'State', 'Age', 'Gender', 'Before-Environment',\n",
       "       'Before-ClassworkStress', 'Before-HomeworkStress',\n",
       "       'Before-HomeworkHours', 'Now-Environment', 'Now-ClassworkStress',\n",
       "       'Now-HomeworkStress', 'Now-HomeworkHours', 'FamilyRelationships',\n",
       "       'FriendRelationships'],\n",
       "      dtype='object')"
      ]
     },
     "execution_count": 7,
     "metadata": {},
     "output_type": "execute_result"
    }
   ],
   "source": [
    "data_set = data_set.T.drop_duplicates().T\n",
    "data_set.columns"
   ]
  },
  {
   "cell_type": "markdown",
   "metadata": {},
   "source": [
    "### Задание группы\n",
    "Для студентов групп ИУ5-22М, ИУ5И-22М - для произвольной колонки данных построить гистограмму."
   ]
  },
  {
   "cell_type": "code",
   "execution_count": 8,
   "metadata": {},
   "outputs": [
    {
     "data": {
      "text/plain": [
       "<AxesSubplot:title={'center':'Age'}>"
      ]
     },
     "execution_count": 8,
     "metadata": {},
     "output_type": "execute_result"
    },
    {
     "data": {
      "image/png": "[encoded data removed]",
      "text/plain": [
       "<Figure size 432x288 with 1 Axes>"
      ]
     },
     "metadata": {},
     "output_type": "display_data"
    }
   ],
   "source": [
    "axes = plt.figure().add_subplot()\n",
    "axes.title.set_text(\"Age\")\n",
    "data_set[\"Age\"].hist(bins = 50, ax = axes, color = \"blue\")"
   ]
  }
 ],
 "metadata": {
  "kernelspec": {
   "display_name": "Python 3",
   "language": "python",
   "name": "python3"
  },
  "language_info": {
   "codemirror_mode": {
    "name": "ipython",
    "version": 3
   },
   "file_extension": ".py",
   "mimetype": "text/x-python",
   "name": "python",
   "nbconvert_exporter": "python",
   "pygments_lexer": "ipython3",
   "version": "3.8.5"
  }
 },
 "nbformat": 4,
 "nbformat_minor": 4
}
